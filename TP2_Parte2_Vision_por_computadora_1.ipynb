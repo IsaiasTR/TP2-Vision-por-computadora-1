{
  "nbformat": 4,
  "nbformat_minor": 0,
  "metadata": {
    "colab": {
      "provenance": []
    },
    "kernelspec": {
      "name": "python3",
      "display_name": "Python 3"
    },
    "language_info": {
      "name": "python"
    }
  },
  "cells": [
    {
      "cell_type": "markdown",
      "source": [
        "**Alumno: Isaias Eleuterio Tenorio Retis**"
      ],
      "metadata": {
        "id": "jP5BpTtjx8wJ"
      }
    },
    {
      "cell_type": "markdown",
      "source": [
        "**2) Cambiar la métrica de enfoque eligiendo uno de los algoritmos explicados en el apéndice de: Analysis of focus measure\n",
        "operators in shapefrom focus.**"
      ],
      "metadata": {
        "id": "BdKvMKfy0EDS"
      }
    },
    {
      "cell_type": "markdown",
      "source": [
        "**El algoritmo de detección a implementar debe detectar y devolver los\n",
        "puntos de máximo enfoque de manera\n",
        "automática**"
      ],
      "metadata": {
        "id": "So8Dy53TyDef"
      }
    },
    {
      "cell_type": "markdown",
      "source": [
        "**La métrica a usar será Absolute Central Moment (MIS1)**"
      ],
      "metadata": {
        "id": "LLTnKzG7yH-E"
      }
    },
    {
      "cell_type": "code",
      "source": [
        "import cv2\n",
        "import numpy as np\n",
        "import matplotlib.pyplot as plt\n",
        "from google.colab.patches import cv2_imshow"
      ],
      "metadata": {
        "id": "Z9FQdnyYy-Yp"
      },
      "execution_count": 1,
      "outputs": []
    },
    {
      "cell_type": "code",
      "source": [
        "# Cargamos el video\n",
        "cap = cv2.VideoCapture('focus_video.mov')\n",
        "\n",
        "# Inicializar listas para almacenar valores\n",
        "mis1_values = []\n",
        "colors = []\n",
        "\n",
        "while True:\n",
        "    ret, frame = cap.read()\n",
        "    if not ret:\n",
        "        break\n",
        "\n",
        "    # Convertir a escala de grises\n",
        "    gray = cv2.cvtColor(frame, cv2.COLOR_BGR2GRAY)\n",
        "\n",
        "    # Calcular el valor medio de intensidad (μ)\n",
        "    mu = np.mean(gray)\n",
        "\n",
        "    # Calcular el Absolute Central Moment (MIS1)\n",
        "    hist = cv2.calcHist([gray], [0], None, [256], [0, 256])\n",
        "    mis1 = np.sum(np.abs(np.arange(256) - mu) * hist)\n",
        "\n",
        "    # Normalizar el valor de MIS1\n",
        "    mis1_normalized = mis1 / 5111223552.0\n",
        "\n",
        "    print(f\"MIS1 Normalizado: {mis1_normalized:.4f}\")\n",
        "    mis1_values.append(mis1_normalized)\n",
        "\n",
        "    # Ajustar tamaño del frame\n",
        "    frame_small = cv2.resize(frame, (0, 0), fx=0.05, fy=0.05)\n",
        "\n",
        "    # Superponer un rectángulo en todo el frame\n",
        "    if 0.94< mis1_normalized < 0.965:  # Umbral\n",
        "        cv2.rectangle(frame, (0, 0), (frame.shape[1], frame.shape[0]), (0, 255, 0), 20)  # Color verde\n",
        "        colors.append('green')\n",
        "    else:\n",
        "        cv2.rectangle(frame, (0, 0), (frame.shape[1], frame.shape[0]), (0, 0, 255), 20)  # Color rojo\n",
        "        colors.append('red')\n",
        "\n",
        "    cv2_imshow(frame)\n",
        "\n",
        "    if cv2.waitKey(1) & 0xFF == ord('q'):\n",
        "        break\n",
        "\n",
        "cap.release()\n",
        "cv2.destroyAllWindows()\n",
        "\n",
        "# Encontrar índice del valor máximo de MIS1 normalizado\n",
        "max_mis1_index = mis1_values.index(max(mis1_values))\n",
        "\n",
        "# Graficar curva de evolución de MIS1 normalizado\n",
        "plt.scatter(range(len(mis1_values)), mis1_values, c=colors)\n",
        "plt.xlabel('Frame')\n",
        "plt.ylabel('MIS1 Normalizado')\n",
        "plt.title('Evolución de MIS1 Normalizado')\n",
        "plt.show()\n",
        "\n",
        "# Imprimir índice del frame con el máximo valor de MIS1 normalizado\n",
        "print(f\"El frame con el máximo valor de MIS1 normalizado es: {max_mis1_index}\")\n",
        "print(f\"El valor máximo de MIS1 normalizado es: {max(mis1_values)}\")"
      ],
      "metadata": {
        "id": "ejDuW6yLyO2x"
      },
      "execution_count": null,
      "outputs": []
    },
    {
      "cell_type": "markdown",
      "source": [
        "**Conclusión**\n",
        "\n",
        "<font color=\"blue\">Se implementó la métrica de Absolute Central Moment (MIS1) para evaluar la nitidez de imágenes en video. La métrica produjo valores altos para imágenes borrosas, lo que sugiere que la uniformidad de los niveles de intensidad puede ser interpretada como nitidez. Se normalizaron los valores de MIS1 para obtener un rango entre 0 y 1. La métrica detectó que la imagen es nitida en el rango de frames 75 a 150, lo que indica que la nitidez es óptima en ese intervalo. Además se implementó una visualización adicional que pinta el rectángulo de verde en el rango de frames 75 a 150 cuando la imagen no es borrosa, facilitando la identificación visual de la nitidez óptima.</font>"
      ],
      "metadata": {
        "id": "NcqgZf3eyU4M"
      }
    },
    {
      "cell_type": "markdown",
      "source": [
        "**Puntos extra : Aplicar unsharp masking para expandir la zona de enfoque y devolver**"
      ],
      "metadata": {
        "id": "8TTaayz1yZGS"
      }
    },
    {
      "cell_type": "code",
      "source": [
        "# Cargamos el video\n",
        "cap = cv2.VideoCapture('focus_video.mov')\n",
        "\n",
        "# Creamos listas para almacenar valores\n",
        "mis1_values = []\n",
        "colors = []\n",
        "\n",
        "while True:\n",
        "    ret, frame = cap.read()\n",
        "    if not ret:\n",
        "        break\n",
        "\n",
        "    # Convertimos a escala de grises\n",
        "    gray = cv2.cvtColor(frame, cv2.COLOR_BGR2GRAY)\n",
        "\n",
        "    # Aplicamos Unsharp Masking\n",
        "    blurred = cv2.GaussianBlur(gray, (5, 5), 0)\n",
        "    mask = cv2.addWeighted(gray, 2, blurred, -1, 0)\n",
        "    sharp = cv2.addWeighted(mask, 1, gray, 1, 0)\n",
        "\n",
        "    # Calculamos el valor medio de intensidad (μ)\n",
        "    mu = np.mean(sharp)\n",
        "\n",
        "    # Calculamos el Absolute Central Moment (MIS1)\n",
        "    hist = cv2.calcHist([sharp], [0], None, [256], [0, 256])\n",
        "    mis1 = np.sum(np.abs(np.arange(256) - mu) * hist)\n",
        "\n",
        "    # Normalizamos el valor de MIS1\n",
        "    mis1_normalized = mis1 / 5111223552.0\n",
        "\n",
        "    print(f\"MIS1 Normalizado: {mis1_normalized:.4f}\")\n",
        "    mis1_values.append(mis1_normalized)\n",
        "\n",
        "    # Ajustamos el tamaño del frame\n",
        "    frame_small = cv2.resize(frame, (0, 0), fx=0.05, fy=0.05)\n",
        "\n",
        "    # Superponer un rectángulo en todo el frame\n",
        "    if 0.74 < mis1_normalized < 0.745:  # Umbral\n",
        "        cv2.rectangle(frame, (0, 0), (frame.shape[1], frame.shape[0]), (0, 255, 0), 20)  # Color verde\n",
        "        colors.append('green')\n",
        "    else:\n",
        "        cv2.rectangle(frame, (0, 0), (frame.shape[1], frame.shape[0]), (0, 0, 255), 20)  # Color rojo\n",
        "        colors.append('red')\n",
        "\n",
        "    cv2_imshow(frame)\n",
        "\n",
        "    if cv2.waitKey(1) & 0xFF == ord('q'):\n",
        "        break\n",
        "\n",
        "cap.release()\n",
        "cv2.destroyAllWindows()\n",
        "\n",
        "# Encontramos el índice del valor máximo de MIS1 normalizado\n",
        "max_mis1_index = mis1_values.index(max(mis1_values))\n",
        "\n",
        "# Graficamos la curva de evolución de MIS1 normalizado\n",
        "plt.scatter(range(len(mis1_values)), mis1_values, c=colors)\n",
        "plt.xlabel('Frame')\n",
        "plt.ylabel('MIS1 Normalizado')\n",
        "plt.title('Evolución de MIS1 Normalizado')\n",
        "plt.show()\n",
        "\n",
        "# Por último se imprime el índice del frame con el máximo valor de MIS1 normalizado\n",
        "print(f\"El frame con el máximo valor de MIS1 normalizado es: {max_mis1_index}\")\n",
        "print(f\"El valor máximo de MIS1 normalizado es: {max(mis1_values)}\")"
      ],
      "metadata": {
        "id": "VFGLdQDcykMC"
      },
      "execution_count": null,
      "outputs": []
    },
    {
      "cell_type": "markdown",
      "source": [
        "**Conclusión Final:**\n",
        "\n",
        "<font color=\"blue\">La aplicación del unsharp masking modifica los valores del MIS1 normalizado, pero mejora la detectabilidad de los puntos de máximo enfoque al aumentar la nitidez de la imagen. Los puntos de máximo enfoque son detectados de manera consistente en ambos gráficos, aunque el rango de valores del MIS1 varía debido a esta mayor nitidez.</font>"
      ],
      "metadata": {
        "id": "zLDS4_QoypLs"
      }
    }
  ]
}