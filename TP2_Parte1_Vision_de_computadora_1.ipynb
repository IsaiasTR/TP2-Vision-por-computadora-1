{
  "cells": [
    {
      "cell_type": "markdown",
      "metadata": {
        "id": "q1dWtGNnhcaC"
      },
      "source": [
        "**Alumno: Isaias Eleuterio Tenorio Retis**"
      ]
    },
    {
      "cell_type": "markdown",
      "metadata": {
        "id": "jxoSwuh7hhjV"
      },
      "source": [
        "**TP2**"
      ]
    },
    {
      "cell_type": "markdown",
      "metadata": {
        "id": "cqOiaI_-hkoC"
      },
      "source": [
        "**Objetivo: Implementar un detector de máximo enfoque sobre un video aplicando técnicas de análisis espectral similar al que utilizan las cámaras digitales modernas. El video a procesar será “focus_video.mov”.**"
      ]
    },
    {
      "cell_type": "markdown",
      "metadata": {
        "id": "PVLFwJMaho6G"
      },
      "source": [
        "**1) Se debe implementar un algoritmo que dada una imagen, o región, calcule la métrica propuesta en el paper r \"Image\n",
        "Sharpness Measure for Blurred Images in Frequency Domain\" y realizar tres experimentos**"
      ]
    },
    {
      "cell_type": "markdown",
      "metadata": {
        "id": "HbdaAlnYhtMD"
      },
      "source": [
        "**Para cada experimento se debe presentar**\n",
        "* Una curva o varias curvas que muestren la evolución de la métrica frame a frame donde se vea claramente cuando el algoritmo detecto el punto de máximo enfoque.\n",
        "* Video con la ROI o matriz, graficada en rojo y superpuesta al video original para los frames que no están en foco y verde para los frames donde se detecta la condición de máximo enfoque."
      ]
    },
    {
      "cell_type": "code",
      "execution_count": null,
      "metadata": {
        "id": "ApvEVJ2-hz-Y"
      },
      "outputs": [],
      "source": [
        "import cv2\n",
        "import numpy as np\n",
        "import matplotlib.pyplot as plt\n",
        "from google.colab.patches import cv2_imshow"
      ]
    },
    {
      "cell_type": "code",
      "execution_count": null,
      "metadata": {
        "id": "plFkZsj5h4yH"
      },
      "outputs": [],
      "source": [
        "# Defino la métrica propuesta en el paper\n",
        "def calcular_fm(image):\n",
        "    # Paso 1: Calculamos F que es la representación de la Transformada de Fourier de la imagen\n",
        "    F = np.fft.fft2(image)\n",
        "    # Paso 2: Buscamos Fc, que se obtiene desplazando el origen de F al centro\n",
        "    Fc = np.fft.fftshift(F)\n",
        "    # Paso 3: Calcular AF que es el valor absoluto de la transformada de fourier centrada de la imagen\n",
        "    AF = np.abs(Fc)\n",
        "    # Paso 4: Calcular M  que es el valor máximo del componente de frecuencia en F\n",
        "    M = np.max(AF)\n",
        "    # Paso 5: Calculamos el umbral\n",
        "    thres = M / 1000\n",
        "    # Paso 6: Por último calculamos la métrica FM\n",
        "    TH = np.sum(AF > thres)\n",
        "    M, N = image.shape\n",
        "    FM = TH / (M * N)\n",
        "\n",
        "    return FM, thres"
      ]
    },
    {
      "cell_type": "code",
      "execution_count": null,
      "metadata": {
        "id": "sKDE4BpVh7S6"
      },
      "outputs": [],
      "source": [
        "# Cargamos el  video\n",
        "cap = cv2.VideoCapture('focus_video.mov')"
      ]
    },
    {
      "cell_type": "code",
      "execution_count": null,
      "metadata": {
        "id": "Ldiec5w9j24m"
      },
      "outputs": [],
      "source": [
        "# Defino el ROI o matriz\n",
        "roi = None"
      ]
    },
    {
      "cell_type": "markdown",
      "source": [
        "**<font color=\"blue\">Primer Experimento :</font> Medición sobre todo el frame**"
      ],
      "metadata": {
        "id": "SN9u8MnMn8tL"
      }
    },
    {
      "cell_type": "code",
      "execution_count": null,
      "metadata": {
        "id": "1dltIbpEKqeS"
      },
      "outputs": [],
      "source": [
        "# Medición sobre todo el frame\n",
        "fm_values = []\n",
        "thres_values = []\n",
        "colors = []\n",
        "while True:\n",
        "    ret, frame = cap.read()\n",
        "    if not ret:\n",
        "        break\n",
        "    # Convertimos los frames a escala de grises\n",
        "    gray = cv2.cvtColor(frame, cv2.COLOR_BGR2GRAY)\n",
        "    # Calculamos la métrica del paper sobre todo el frame\n",
        "    fm, thres = calcular_fm(gray)\n",
        "    print(f\"FM: {fm:.4f}\")\n",
        "    fm_values.append(fm)\n",
        "    thres_values.append(thres)\n",
        "    # Ajustamos el tamaño del frame\n",
        "    frame_small = cv2.resize(frame, (0, 0), fx=0.05, fy=0.05)\n",
        "    # Superponemos un rectángulo en todo el frame\n",
        "    if fm > 0.025:\n",
        "        cv2.rectangle(frame, (0, 0), (frame.shape[1], frame.shape[0]), (0, 255, 0), 20)  # Color verde\n",
        "        colors.append('green')\n",
        "    else:\n",
        "        cv2.rectangle(frame, (0, 0), (frame.shape[1], frame.shape[0]), (0, 0, 255), 20)  # color rojo\n",
        "        colors.append('red')\n",
        "    cv2_imshow(frame)\n",
        "    if cv2.waitKey(1) & 0xFF == ord('q'):\n",
        "        break\n",
        "cap.release()\n",
        "cv2.destroyAllWindows()\n",
        "\n",
        "# Comando para encontrar el índice del valor máximo de FM\n",
        "max_fm_index = fm_values.index(max(fm_values))\n",
        "\n",
        "# Ahora graficamos una curva que muestra la evolución de la métrica FM\n",
        "plt.scatter(range(len(fm_values)), fm_values, c=colors)\n",
        "plt.xlabel('Frame')\n",
        "plt.ylabel('Métrica FM')\n",
        "plt.title('Evolución de la métrica FM')\n",
        "plt.show()\n",
        "\n",
        "# Por último imprimo el índice del frame con el máximo valor de FM\n",
        "print(f\"El frame con el máximo valor de FM es: {max_fm_index}\")\n",
        "print(f\"El valor máximo de FM es: {max(fm_values)}\")"
      ]
    },
    {
      "cell_type": "markdown",
      "metadata": {
        "id": "Rnrjj7m6TUJp"
      },
      "source": [
        "**Observación:**\n",
        "* <font color=\"blue\">El frame con el máximo valor de FM es: 109.<font>\n",
        "* <font color=\"blue\">El valor máximo de FM es: 0.028624131944444443.</font>\n",
        "\n",
        "\n",
        "**Conclusión:**\n",
        "* <font color=\"blue\">Los puntos verdes en el gráfico indican que la métrica FM es mayor que 0.025, lo que sugiere  que la imagen está relativamente clara o enfocada.</font>\n",
        "* <font color=\"blue\">Los puntos rojos indican que la métrica FM es menor o igual que 0.025, lo que sugiere que la imagen está borrosa o desenfocada.</font>"
      ]
    },
    {
      "cell_type": "markdown",
      "metadata": {
        "id": "ZAAHfe9xVk7E"
      },
      "source": [
        "**<font color=\"blue\">Segundo Experimento :</font> Medición sobre una ROI ubicada en el centro del frame. Área de la ROI = 5 o 10 % del área total del frame.**"
      ]
    },
    {
      "cell_type": "code",
      "execution_count": null,
      "metadata": {
        "id": "C0ip-lIkWrjn"
      },
      "outputs": [],
      "source": [
        "# Medición sobre una ROI ubicada en el centro del frame\n",
        "# Cargamos el  video\n",
        "cap = cv2.VideoCapture('focus_video.mov')\n",
        "# 10% del área total del frame\n",
        "roi_size = 0.10\n",
        "fm_values = []\n",
        "thres_values = []\n",
        "while True:\n",
        "    ret, frame = cap.read()\n",
        "    if not ret:\n",
        "        break\n",
        "    frame_small = cv2.resize(frame, (0, 0), fx=0.05, fy=0.05)  # Ajustamos el tamaño del frame\n",
        "    # Convertimos el frame de color BGR a escala de grises\n",
        "    gray = cv2.cvtColor(frame, cv2.COLOR_BGR2GRAY)\n",
        "    # Capturamos la altura y el ancho de las dimensiones del frame\n",
        "    h, w = gray.shape\n",
        "    # Calculamos el tamaño del ROI\n",
        "    roi_h = int(h * roi_size)\n",
        "    roi_w = int(w * roi_size)\n",
        "    # Extraemos el ROI de la imagen en escala de grises\n",
        "    roi = gray[h//2-roi_h//2:h//2+roi_h//2, w//2-roi_w//2:w//2+roi_w//2]\n",
        "    # Calculamos la métrica y el umbral para el ROI\n",
        "    fm, thres = calcular_fm(roi)\n",
        "    print(f\"FM: {fm:.4f}\")  # Imprimo el valor del FM en cada frame\n",
        "    fm_values.append(fm)\n",
        "    thres_values.append(thres)\n",
        "\n",
        "    # Superponer ROI en rojo o verde\n",
        "    if fm > 0.6:\n",
        "        color = (0, 255, 0)  # Verde\n",
        "    else:\n",
        "        color = (0, 0, 255)  # Rojo\n",
        "    cv2.rectangle(frame, (w//2-roi_w//2, h//2-roi_h//2), (w//2+roi_w//2, h//2+roi_h//2), color, 2)\n",
        "\n",
        "    cv2_imshow(frame)\n",
        "    if cv2.waitKey(1) & 0xFF == ord('q'):\n",
        "        break\n",
        "cap.release()\n",
        "cv2.destroyAllWindows()\n",
        "\n",
        "# Comando para encontrar el índice del valor máximo de FM\n",
        "max_fm_index = fm_values.index(max(fm_values))\n",
        "\n",
        "# Ahora graficamos la curva de métrica FM\n",
        "colors = ['green' if fm > 0.6 else 'red' for fm in fm_values]\n",
        "plt.scatter(range(len(fm_values)), fm_values, c=colors)\n",
        "plt.xlabel('Frame')\n",
        "plt.ylabel('Métrica FM')\n",
        "plt.title('Evolución de la métrica FM')\n",
        "plt.show()\n",
        "\n",
        "# Por último imprimo el índice del frame con el máximo valor de FM\n",
        "print(f\"El frame con el máximo valor de FM es: {max_fm_index}\")\n",
        "print(f\"El valor máximo de FM es: {max(fm_values)}\")"
      ]
    },
    {
      "cell_type": "markdown",
      "metadata": {
        "id": "hNwep5iAVZND"
      },
      "source": [
        "**Observación:**\n",
        "*  <font color=\"blue\">El frame con el máximo valor de FM es: 91.</font>\n",
        "*  <font color=\"blue\">El valor máximo de FM es: 0.7387152777777778.</font>\n",
        "\n",
        "\n",
        "**Análisis:**\n",
        "* <font color=\"blue\">Los puntos verdes en el gráfico indican que la métrica FM es mayor que 0.6, lo que sugiere  que la imagen está relativamente clara o enfocada.</font>\n",
        "* <font color=\"blue\">Los puntos rojos indican que la métrica FM es menor o igual que 0.6, lo que sugiere que la imagen está borrosa o desenfocada.</font>\n"
      ]
    },
    {
      "cell_type": "markdown",
      "metadata": {
        "id": "JpDBpD_wVsDu"
      },
      "source": [
        "**<font color=\"blue\">Tercer Experimento : </font> Medición sobre una matriz de enfoque compuesta por un arreglo de NxM elementos rectangulares equiespaciados. N y M son valores arbitrarios, probar con varios valores 3x3,7x5,etc ... (al menos 3)**"
      ]
    },
    {
      "cell_type": "markdown",
      "metadata": {
        "id": "_OZSxvOnQL2D"
      },
      "source": [
        "* <font color=\"blue\">Área de la ROI a considerar es del 10%.</font>\n",
        "* <font color=\"blue\"> FM a considerar para todas las matrices es del 0.5.</font>"
      ]
    },
    {
      "cell_type": "markdown",
      "metadata": {
        "id": "j8B4-p9WVIPY"
      },
      "source": [
        "**Primero: Matriz de orden 3x3**"
      ]
    },
    {
      "cell_type": "code",
      "execution_count": null,
      "metadata": {
        "id": "UoBNy5gURvyK"
      },
      "outputs": [],
      "source": [
        "# Defino la matriz de enfoque\n",
        "N = 3  # Número de filas\n",
        "M = 3  # Número de columnas\n",
        "roi_size = 0.1  # tamaño del ROI\n",
        "\n",
        "# Cargamos el video\n",
        "cap = cv2.VideoCapture('focus_video.mov')\n",
        "\n",
        "# Listas para almacenar los valores de FM y umbrales\n",
        "fm_values = []\n",
        "thres_values = []\n",
        "\n",
        "while True:\n",
        "    ret, frame = cap.read()\n",
        "    if not ret:\n",
        "        break\n",
        "\n",
        "    # Convertimos el frame de color BGR a escala de grises\n",
        "    gray = cv2.cvtColor(frame, cv2.COLOR_BGR2GRAY)\n",
        "\n",
        "    # Capturamos la altura y el ancho de las dimensiones del frame\n",
        "    h, w = gray.shape\n",
        "\n",
        "    # Calculamos el centro del frame\n",
        "    center_x, center_y = w // 2, h // 2\n",
        "\n",
        "    # Matriz para almacenar los valores de FM para cada elemento de la matriz de enfoque\n",
        "    fm_matrix = np.zeros((N, M))\n",
        "\n",
        "    # Calcular el tamaño del ROI en píxeles\n",
        "    roi_w = int(w * roi_size)\n",
        "    roi_h = int(h * roi_size)\n",
        "\n",
        "    # Ajustamos para que los rectángulos se dibujen alrededor del centro\n",
        "    start_x = center_x - (M // 2) * roi_w\n",
        "    start_y = center_y - (N // 2) * roi_h\n",
        "\n",
        "    # Iterar sobre cada elemento de la matriz de enfoque\n",
        "    for i in range(N):\n",
        "        for j in range(M):\n",
        "            # Calcular las coordenadas del ROI centrado\n",
        "            roi_x = start_x + j * roi_w\n",
        "            roi_y = start_y + i * roi_h\n",
        "            roi = gray[roi_y:roi_y+roi_h, roi_x:roi_x+roi_w]\n",
        "\n",
        "            # Calculamos la métrica FM para el ROI actual\n",
        "            fm, _ = calcular_fm(roi)\n",
        "\n",
        "            # Asignamos el valor de FM a la matriz de enfoque\n",
        "            fm_matrix[i, j] = fm\n",
        "\n",
        "    # Almacenamos los valores de FM y umbrales para cada frame\n",
        "    fm_values.append(fm_matrix.flatten())\n",
        "    thres_values.append(np.zeros_like(fm_matrix.flatten()))\n",
        "\n",
        "    # Superponer ROI en rojo o verde\n",
        "    for i in range(N):\n",
        "        for j in range(M):\n",
        "            if fm_matrix[i, j] > 0.5:\n",
        "                color = (0, 255, 0)  # Verde\n",
        "            else:\n",
        "                color = (0, 0, 255)  # Rojo\n",
        "            cv2.rectangle(frame,\n",
        "              (start_x + j * roi_w, start_y + i * roi_h),\n",
        "              (start_x + j * roi_w + roi_w, start_y + i * roi_h + roi_h),\n",
        "              color, 2)\n",
        "\n",
        "    cv2_imshow(frame)\n",
        "    if cv2.waitKey(1) & 0xFF == ord('q'):\n",
        "        break\n",
        "\n",
        "cap.release()\n",
        "cv2.destroyAllWindows()\n",
        "\n",
        "# Graficamos la curva de métrica FM para cada elemento de la matriz de enfoque\n",
        "fig, axs = plt.subplots(N, M, figsize=(15, 10), sharex=True, sharey=True)\n",
        "for i in range(N):\n",
        "    for j in range(M):\n",
        "        colors = ['green' if fm > 0.5 else 'red' for fm in np.array(fm_values)[:, i*M + j]]\n",
        "        axs[i, j].scatter(range(len(np.array(fm_values)[:, i*M + j])), np.array(fm_values)[:, i*M + j], c=colors, s=10)\n",
        "        axs[i, j].set_title(f'({i}, {j})')\n",
        "\n",
        "fig.tight_layout()\n",
        "plt.show()\n",
        "\n",
        "# Comando para encontrar el índice del valor máximo de FM\n",
        "indice_max_fm = np.array(fm_values).argmax()\n",
        "\n",
        "# Por último imprimimos el índice del frame con el máximo valor de FM\n",
        "print(f\"El frame con el máximo valor de FM es: {indice_max_fm}\")\n",
        "print(f\"El valor máximo de FM es: {np.array(fm_values).max()}\")"
      ]
    },
    {
      "cell_type": "markdown",
      "metadata": {
        "id": "5R8wvywRQqjt"
      },
      "source": [
        "**Conclusión:**\n",
        "\n",
        "<font color=\"blue\">\n",
        "El análisis de la métrica FM reveló variabilidad en su valor máximo entre frames, sugiriendo que captura diferentes aspectos de la imagen en distintos momentos. Esta variabilidad puede deberse a cambios en la escena o sensibilidad a características de la imagen. Aunque la métrica FM es útil para evaluar la calidad de enfoque, es crucial considerar su variabilidad para obtener resultados precisos\n",
        "</font>"
      ]
    },
    {
      "cell_type": "markdown",
      "metadata": {
        "id": "NkM1rqdNVfCT"
      },
      "source": [
        "**Segundo: Matriz de orden 7x5**"
      ]
    },
    {
      "cell_type": "code",
      "execution_count": null,
      "metadata": {
        "id": "nStqAK96VeRo"
      },
      "outputs": [],
      "source": [
        "# Defino la matriz de enfoque\n",
        "N = 7  # Número de filas\n",
        "M = 5  # Número de columnas\n",
        "roi_size = 0.1  # tamaño del ROI\n",
        "\n",
        "# Cargamos el video\n",
        "cap = cv2.VideoCapture('focus_video.mov')\n",
        "\n",
        "# Listas para almacenar los valores de FM y umbrales\n",
        "fm_values = []\n",
        "thres_values = []\n",
        "\n",
        "while True:\n",
        "    ret, frame = cap.read()\n",
        "    if not ret:\n",
        "        break\n",
        "\n",
        "    # Convertimos el frame de color BGR a escala de grises\n",
        "    gray = cv2.cvtColor(frame, cv2.COLOR_BGR2GRAY)\n",
        "\n",
        "    # Capturamos la altura y el ancho de las dimensiones del frame\n",
        "    h, w = gray.shape\n",
        "\n",
        "    # Calculamos el centro del frame\n",
        "    center_x, center_y = w // 2, h // 2\n",
        "\n",
        "    # Matriz para almacenar los valores de FM para cada elemento de la matriz de enfoque\n",
        "    fm_matrix = np.zeros((N, M))\n",
        "\n",
        "    # Calcular el tamaño del ROI en píxeles\n",
        "    roi_w = int(w * roi_size)\n",
        "    roi_h = int(h * roi_size)\n",
        "\n",
        "    # Ajustamos para que los rectángulos se dibujen alrededor del centro\n",
        "    start_x = center_x - (M // 2) * roi_w\n",
        "    start_y = center_y - (N // 2) * roi_h\n",
        "\n",
        "    # Iterar sobre cada elemento de la matriz de enfoque\n",
        "    for i in range(N):\n",
        "        for j in range(M):\n",
        "            # Calcular las coordenadas del ROI centrado\n",
        "            roi_x = start_x + j * roi_w\n",
        "            roi_y = start_y + i * roi_h\n",
        "            roi = gray[roi_y:roi_y+roi_h, roi_x:roi_x+roi_w]\n",
        "\n",
        "            # Calculamos la métrica FM para el ROI actual\n",
        "            fm, _ = calcular_fm(roi)\n",
        "\n",
        "            # Asignamos el valor de FM a la matriz de enfoque\n",
        "            fm_matrix[i, j] = fm\n",
        "\n",
        "    # Almacenamos los valores de FM y umbrales para cada frame\n",
        "    fm_values.append(fm_matrix.flatten())\n",
        "    thres_values.append(np.zeros_like(fm_matrix.flatten()))\n",
        "\n",
        "    # Superponer ROI en rojo o verde\n",
        "    for i in range(N):\n",
        "        for j in range(M):\n",
        "            if fm_matrix[i, j] > 0.5:\n",
        "                color = (0, 255, 0)  # Verde\n",
        "            else:\n",
        "                color = (0, 0, 255)  # Rojo\n",
        "            cv2.rectangle(frame,\n",
        "              (start_x + j * roi_w, start_y + i * roi_h),\n",
        "              (start_x + j * roi_w + roi_w, start_y + i * roi_h + roi_h),\n",
        "              color, 2)\n",
        "\n",
        "    cv2_imshow(frame)\n",
        "    if cv2.waitKey(1) & 0xFF == ord('q'):\n",
        "        break\n",
        "\n",
        "cap.release()\n",
        "cv2.destroyAllWindows()\n",
        "\n",
        "# Graficamos la curva de métrica FM para cada elemento de la matriz de enfoque\n",
        "fig, axs = plt.subplots(N, M, figsize=(15, 10), sharex=True, sharey=True)\n",
        "for i in range(N):\n",
        "    for j in range(M):\n",
        "        colors = ['green' if fm > 0.5 else 'red' for fm in np.array(fm_values)[:, i*M + j]]\n",
        "        axs[i, j].scatter(range(len(np.array(fm_values)[:, i*M + j])), np.array(fm_values)[:, i*M + j], c=colors, s=10)\n",
        "        axs[i, j].set_title(f'({i}, {j})')\n",
        "\n",
        "fig.tight_layout()\n",
        "plt.show()"
      ]
    },
    {
      "cell_type": "markdown",
      "metadata": {
        "id": "MelIK7aEXIHY"
      },
      "source": [
        "**Conclusión:**\n",
        "\n",
        "<font color=\"blue\">La matriz de 7x5 utilizada para analizar la métrica FM mostró una distribución dispersa de los valores de FM mayores a 0.5. Esto indica que la calidad de enfoque varía en diferentes regiones de la imagen, y que la métrica FM es capaz de capturar estas variaciones.</font>"
      ]
    },
    {
      "cell_type": "markdown",
      "metadata": {
        "id": "yaFa7QQlXuTw"
      },
      "source": [
        "**Tercero: Matriz de orden 8x6**"
      ]
    },
    {
      "cell_type": "code",
      "execution_count": null,
      "metadata": {
        "id": "Sn8g_rFjYF5q"
      },
      "outputs": [],
      "source": [
        "# Defino la matriz de enfoque\n",
        "N = 8  # Número de filas\n",
        "M = 6  # Número de columnas\n",
        "roi_size = 0.1  # tamaño del ROI\n",
        "\n",
        "# Cargamos el video\n",
        "cap = cv2.VideoCapture('focus_video.mov')\n",
        "\n",
        "# Listas para almacenar los valores de FM y umbrales\n",
        "fm_values = []\n",
        "thres_values = []\n",
        "\n",
        "while True:\n",
        "    ret, frame = cap.read()\n",
        "    if not ret:\n",
        "        break\n",
        "\n",
        "    # Convertimos el frame de color BGR a escala de grises\n",
        "    gray = cv2.cvtColor(frame, cv2.COLOR_BGR2GRAY)\n",
        "\n",
        "    # Capturamos la altura y el ancho de las dimensiones del frame\n",
        "    h, w = gray.shape\n",
        "\n",
        "    # Calculamos el centro del frame\n",
        "    center_x, center_y = w // 2, h // 2\n",
        "\n",
        "    # Matriz para almacenar los valores de FM para cada elemento de la matriz de enfoque\n",
        "    fm_matrix = np.zeros((N, M))\n",
        "\n",
        "    # Calcular el tamaño del ROI en píxeles\n",
        "    roi_w = int(w * roi_size)\n",
        "    roi_h = int(h * roi_size)\n",
        "\n",
        "    # Ajustamos para que los rectángulos se dibujen alrededor del centro\n",
        "    start_x = center_x - (M // 2) * roi_w\n",
        "    start_y = center_y - (N // 2) * roi_h\n",
        "\n",
        "    # Iterar sobre cada elemento de la matriz de enfoque\n",
        "    for i in range(N):\n",
        "        for j in range(M):\n",
        "            # Calcular las coordenadas del ROI centrado\n",
        "            roi_x = start_x + j * roi_w\n",
        "            roi_y = start_y + i * roi_h\n",
        "            roi = gray[roi_y:roi_y+roi_h, roi_x:roi_x+roi_w]\n",
        "\n",
        "            # Calculamos la métrica FM para el ROI actual\n",
        "            fm, _ = calcular_fm(roi)\n",
        "\n",
        "            # Asignamos el valor de FM a la matriz de enfoque\n",
        "            fm_matrix[i, j] = fm\n",
        "\n",
        "    # Almacenamos los valores de FM y umbrales para cada frame\n",
        "    fm_values.append(fm_matrix.flatten())\n",
        "    thres_values.append(np.zeros_like(fm_matrix.flatten()))\n",
        "\n",
        "    # Superponer ROI en rojo o verde\n",
        "    for i in range(N):\n",
        "        for j in range(M):\n",
        "            if fm_matrix[i, j] > 0.5:\n",
        "                color = (0, 255, 0)  # Verde\n",
        "            else:\n",
        "                color = (0, 0, 255)  # Rojo\n",
        "            cv2.rectangle(frame,\n",
        "              (start_x + j * roi_w, start_y + i * roi_h),\n",
        "              (start_x + j * roi_w + roi_w, start_y + i * roi_h + roi_h),\n",
        "              color, 2)\n",
        "\n",
        "    cv2_imshow(frame)\n",
        "    if cv2.waitKey(1) & 0xFF == ord('q'):\n",
        "        break\n",
        "\n",
        "cap.release()\n",
        "cv2.destroyAllWindows()\n",
        "\n",
        "# Graficamos la curva de métrica FM para cada elemento de la matriz de enfoque\n",
        "fig, axs = plt.subplots(N, M, figsize=(15, 10), sharex=True, sharey=True)\n",
        "for i in range(N):\n",
        "    for j in range(M):\n",
        "        colors = ['green' if fm > 0.5 else 'red' for fm in np.array(fm_values)[:, i*M + j]]\n",
        "        axs[i, j].scatter(range(len(np.array(fm_values)[:, i*M + j])), np.array(fm_values)[:, i*M + j], c=colors, s=10)\n",
        "        axs[i, j].set_title(f'({i}, {j})')\n",
        "\n",
        "fig.tight_layout()\n",
        "plt.show()"
      ]
    },
    {
      "cell_type": "markdown",
      "metadata": {
        "id": "JbIiGIJzfwq_"
      },
      "source": [
        "**Observación:**\n",
        "\n",
        "<font color=\"blue\">La matriz de 8x6 utilizada para analizar la métrica FM demostró que la capacidad de la métrica para capturar variaciones en la calidad de enfoque se mantiene incluso en matrices de mayor tamaño y complejidad, lo que sugiere una robustez y fiabilidad en la métrica.</font>"
      ]
    },
    {
      "cell_type": "markdown",
      "metadata": {
        "id": "Ac-OClZDhGHN"
      },
      "source": [
        "**Conclusión Final**\n",
        "\n",
        "<font color=\"blue\">En conclusión, la métrica FM es una herramienta efectiva para analizar la calidad de enfoque en imágenes, mostrando robustez y fiabilidad en diferentes contextos. Su variabilidad refleja la complejidad de la imagen, lo que la hace útil para evaluar la calidad de enfoque de manera precisa.</font>"
      ]
    }
  ],
  "metadata": {
    "colab": {
      "provenance": []
    },
    "kernelspec": {
      "display_name": "Python 3",
      "name": "python3"
    },
    "language_info": {
      "name": "python"
    }
  },
  "nbformat": 4,
  "nbformat_minor": 0
}